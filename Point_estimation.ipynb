{
 "cells": [
  {
   "cell_type": "markdown",
   "metadata": {},
   "source": [
    "## Some estimation terminology\n",
    "\n",
    "### Paul Anzel, 12/16/15\n",
    "\n",
    "(With copious copying of my Caltech Ph129c notes...)"
   ]
  },
  {
   "cell_type": "markdown",
   "metadata": {},
   "source": [
    "When we try and estimate some value about our data, here's some things we want to have. However, there's often a trade-off between them."
   ]
  },
  {
   "cell_type": "markdown",
   "metadata": {},
   "source": [
    "### Bias\n",
    "\n",
    "An estimator is *biased* if our expected value of it is different from the true value.\n",
    "\n",
    "$$b(\\hat \\theta) = \\langle \\hat \\theta \\rangle - \\theta$$"
   ]
  },
  {
   "cell_type": "markdown",
   "metadata": {},
   "source": [
    "For example, why do we divide by $n - 1$ for standard deviation instead of $n$?\n",
    "\n",
    "For $\\hat s = \\frac{1}{n}\\sum_{i = 1}^n (x_i - m)^2$ where $m$ is the sample mean, the bias is:\n",
    "\n",
    "$$\n",
    "\\begin{align}\n",
    "b(s) &= \\langle \\hat s \\rangle - s \\\\\n",
    "&= \\langle \\frac{1}{n}\\sum_{i = 1}^n (x_i - m)^2\\rangle - s \\\\\n",
    "&= \\frac{1}{n}\\langle \\sum_{i = 1}^n (x_i - m)^2\\rangle - s \\\\\n",
    "&= \\langle (x_1 - m)^2\\rangle - s, \\text{because IID} \\\\\n",
    "&= \\langle (x_1 - \\theta + \\theta - m)^2\\rangle - s, \\theta \\text{ is the true mean of the distribution} \\\\\n",
    "&= \\langle (x_1 - \\theta)^2 \\rangle + \\langle (\\theta - m)^2 \\rangle + 2 \\langle (x_1 - \\theta)(\\theta - m) \\rangle - s \\\\\n",
    "&= s + \\langle \\left[ \\frac{1}{n} \\sum_{i=1}^n (\\theta - x_i) \\right]^2 \\rangle + 2 \\langle (x_1 - \\theta)(\\theta - \\frac{x_1}{n} - \\frac{1}{n}\\sum_{i=2}^n x_i) \\rangle - s \\\\\n",
    "&= \\frac{1}{n^2} \\sum_{i=1}^n \\langle (\\theta - x_i)^2 \\rangle + \\frac{2}{n^2}\\sum_{i < j} \\langle (\\theta - x_i)(\\theta - x_j)\\rangle + \\frac{2}{n} \\langle (x_1 - \\theta)(\\theta - x_1)\\rangle + 2 \\langle (x_1 - \\theta) (\\frac{1}{n}\\sum_{i=2}^n x_i ) \\rangle\\\\\n",
    "&= \\frac{s}{n} - \\frac{2s}{n} + 2 \\langle (x_1 - \\theta) \\rangle \\langle (\\frac{1}{n}\\sum_{i=2}^n x_i ) \\rangle, \\text{since independent}\\\\\n",
    "&= \\frac{s}{n} - \\frac{2s}{n} \\\\\n",
    "b(s) &= - \\frac{s}{n}\n",
    "\\end{align}$$"
   ]
  },
  {
   "cell_type": "markdown",
   "metadata": {},
   "source": [
    "### Consistency\n",
    "\n",
    "An estimator is *consistent* if your estimator approaches the real value as you collect more and more data.\n",
    "\n",
    "$$\\lim_{n \\rightarrow \\infty} \\hat \\theta (x_1, x_2, \\dots, x_n) = \\theta $$\n",
    "\n",
    "Note that our biased estimator of standard deviation above __IS__ consistent, as the relative difference between $n$ and $n - 1$ vanishes as $n$ goes to infinity."
   ]
  },
  {
   "cell_type": "code",
   "execution_count": null,
   "metadata": {
    "collapsed": true
   },
   "outputs": [],
   "source": []
  },
  {
   "cell_type": "markdown",
   "metadata": {},
   "source": [
    "### Sufficiency\n",
    "\n",
    "A set of estimators is *sufficient* if it's everything needed to describe the data set. For example, you can describe a Poisson distribution with just one parameter $\\lambda$. Meanwhile, a normal distribution takes two parameters $\\mu$ and $\\sigma$."
   ]
  },
  {
   "cell_type": "code",
   "execution_count": null,
   "metadata": {
    "collapsed": true
   },
   "outputs": [],
   "source": []
  },
  {
   "cell_type": "markdown",
   "metadata": {},
   "source": [
    "### Robustness\n",
    "\n",
    "An estimator is *robust* if it's not sensitive to big fluctuations. A simple example here is taking the median instead of the mean of a sample--the mean can be thrown off by an outlier, but the median won't be."
   ]
  },
  {
   "cell_type": "code",
   "execution_count": null,
   "metadata": {
    "collapsed": true
   },
   "outputs": [],
   "source": []
  },
  {
   "cell_type": "markdown",
   "metadata": {},
   "source": [
    "### Efficency"
   ]
  },
  {
   "cell_type": "markdown",
   "metadata": {},
   "source": [
    "The *efficency* of an estimator is its variance, $\\text{Var}(\\hat \\theta)$. You'll often want to choose a more efficient estimtor instead of a less-efficient one, but you may get a trade-off. As a silly example, define $\\hat \\theta = 42$. No variance whatsoever!"
   ]
  },
  {
   "cell_type": "code",
   "execution_count": null,
   "metadata": {
    "collapsed": true
   },
   "outputs": [],
   "source": []
  },
  {
   "cell_type": "markdown",
   "metadata": {},
   "source": [
    "### Rao-Cramer-Frechet inequality"
   ]
  },
  {
   "cell_type": "markdown",
   "metadata": {},
   "source": [
    "How efficient can we have an estimator be? The Rao-Cramer-Frechet (RCF) inequality says that if:\n",
    "1. The range of data $x$ is independent of $\\theta$.\n",
    "2. The variance of $\\hat \\theta$ is finite, for any $\\theta$.\n",
    "3. $\\partial_{\\theta} \\int_{-\\infty}^{\\infty} f(x) L(\\theta|x)dx = \\int_{-\\infty}^{\\infty} f(x) \\partial_{\\theta} L(\\theta|x)dx$ where $f(x)$ is any statistic of finite variance. ($L$ is the likelihood function we've talked about earlier.)\n",
    "\n",
    "Then\n",
    "\n",
    "$$ \\sigma^2_{\\hat \\theta} \\geq \\frac{[1 + \\partial_{\\theta}b(\\theta)]^2}{I(\\theta)}$$\n",
    "\n",
    "where $I(\\theta)$ is the *Fisher Information Number*.\n",
    "\n",
    "$$I(\\theta) := \\left\\langle \\left( \\frac{\\partial \\ln L}{\\partial \\theta} \\right)^2 \\right\\rangle = - \\left\\langle \\frac{\\partial^2 \\ln L}{\\partial \\theta^2} \\right\\rangle$$"
   ]
  },
  {
   "cell_type": "markdown",
   "metadata": {},
   "source": [
    "A statistic that reaches the equality above is called *efficient*. This leads to a theorem:\n",
    "\n",
    "An efficient (perhaps biased) estimator for $\\theta$ exists if-and-only-if\n",
    "\n",
    "$$\\frac{\\partial \\ln L(\\theta|x)}{\\partial \\theta} = [f(x) - h(\\theta)]g(\\theta)$$\n",
    "\n",
    "In other words, we're drawing from the exponential family.\n",
    "\n",
    "Further, an unbiased efficient estimator exists if-and-only-if $h(\\theta) = \\theta$"
   ]
  },
  {
   "cell_type": "code",
   "execution_count": null,
   "metadata": {
    "collapsed": true
   },
   "outputs": [],
   "source": []
  }
 ],
 "metadata": {
  "kernelspec": {
   "display_name": "Python 2",
   "language": "python",
   "name": "python2"
  },
  "language_info": {
   "codemirror_mode": {
    "name": "ipython",
    "version": 2
   },
   "file_extension": ".py",
   "mimetype": "text/x-python",
   "name": "python",
   "nbconvert_exporter": "python",
   "pygments_lexer": "ipython2",
   "version": "2.7.10"
  }
 },
 "nbformat": 4,
 "nbformat_minor": 0
}
