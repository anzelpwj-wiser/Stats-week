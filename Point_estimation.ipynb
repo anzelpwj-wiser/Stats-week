{
 "cells": [
  {
   "cell_type": "markdown",
   "metadata": {},
   "source": [
    "## Some estimation terminology\n",
    "\n",
    "### Paul Anzel, 12/16/15\n",
    "\n",
    "(With copious copying of my Caltech Ph129c notes...)"
   ]
  },
  {
   "cell_type": "markdown",
   "metadata": {},
   "source": [
    "When we try and estimate some value about our data, here's some things we want to have. However, there's often a trade-off between them."
   ]
  },
  {
   "cell_type": "code",
   "execution_count": 1,
   "metadata": {
    "collapsed": true
   },
   "outputs": [],
   "source": [
    "from __future__ import print_function, division\n",
    "import numpy as np\n",
    "import scipy as sp\n",
    "import matplotlib.pyplot as plt\n",
    "import seaborn as sns\n",
    "sns.set_style('white')\n",
    "%matplotlib inline"
   ]
  },
  {
   "cell_type": "markdown",
   "metadata": {},
   "source": [
    "### Bias\n",
    "\n",
    "An estimator is *biased* if our expected value of it is different from the true value.\n",
    "\n",
    "$$b(\\hat \\theta) = \\langle \\hat \\theta \\rangle - \\theta$$"
   ]
  },
  {
   "cell_type": "markdown",
   "metadata": {},
   "source": [
    "For example, why do we divide by $n - 1$ for standard deviation instead of $n$?\n",
    "\n",
    "For $\\hat s = \\frac{1}{n}\\sum_{i = 1}^n (x_i - m)^2$ where $m$ is the sample mean, the bias is:\n",
    "\n",
    "$$\n",
    "\\begin{align}\n",
    "b(s) &= \\langle \\hat s \\rangle - s \\\\\n",
    "&= \\langle \\frac{1}{n}\\sum_{i = 1}^n (x_i - m)^2\\rangle - s \\\\\n",
    "&= \\frac{1}{n}\\langle \\sum_{i = 1}^n (x_i - m)^2\\rangle - s \\\\\n",
    "&= \\langle (x_1 - m)^2\\rangle - s, \\text{because IID} \\\\\n",
    "&= \\langle (x_1 - \\theta + \\theta - m)^2\\rangle - s, \\theta \\text{ is the true mean of the distribution} \\\\\n",
    "&= \\langle (x_1 - \\theta)^2 \\rangle + \\langle (\\theta - m)^2 \\rangle + 2 \\langle (x_1 - \\theta)(\\theta - m) \\rangle - s \\\\\n",
    "&= s + \\langle \\left[ \\frac{1}{n} \\sum_{i=1}^n (\\theta - x_i) \\right]^2 \\rangle + 2 \\langle (x_1 - \\theta)(\\theta - \\frac{x_1}{n} - \\frac{1}{n}\\sum_{i=2}^n x_i) \\rangle - s \\\\\n",
    "&= \\frac{1}{n^2} \\sum_{i=1}^n \\langle (\\theta - x_i)^2 \\rangle + \\frac{2}{n^2}\\sum_{i < j} \\langle (\\theta - x_i)(\\theta - x_j)\\rangle + \\frac{2}{n} \\langle (x_1 - \\theta)(\\theta - x_1)\\rangle + 2 \\langle (x_1 - \\theta) (\\frac{1}{n}\\sum_{i=2}^n x_i ) \\rangle\\\\\n",
    "&= \\frac{s}{n} - \\frac{2s}{n} + 2 \\langle (x_1 - \\theta) \\rangle \\langle (\\frac{1}{n}\\sum_{i=2}^n x_i ) \\rangle, \\text{since independent}\\\\\n",
    "&= \\frac{s}{n} - \\frac{2s}{n} \\\\\n",
    "b(s) &= - \\frac{s}{n}\n",
    "\\end{align}$$"
   ]
  },
  {
   "cell_type": "markdown",
   "metadata": {},
   "source": [
    "### Consistency\n",
    "\n",
    "An estimator is *consistent* if your estimator approaches the real value as you collect more and more data.\n",
    "\n",
    "$$\\lim_{n \\rightarrow \\infty} \\hat \\theta (x_1, x_2, \\dots, x_n) = \\theta $$\n",
    "\n",
    "Note that our biased estimator of standard deviation above __IS__ consistent, as the relative difference between $n$ and $n - 1$ vanishes as $n$ goes to infinity."
   ]
  },
  {
   "cell_type": "code",
   "execution_count": 2,
   "metadata": {
    "collapsed": false
   },
   "outputs": [],
   "source": [
    "# Drawing samples from a Gaussian of mean 0, stdev 1\n",
    "max_sample = 100\n",
    "np.random.seed(100)\n",
    "gaussian_sample = sp.stats.norm.rvs(size=max_sample)\n",
    "\n",
    "bias_var = []\n",
    "unbias_var = []\n",
    "for N in range(5,max_sample+1):\n",
    "    test_sample = gaussian_sample[:N]\n",
    "    test_mean = test_sample.mean()\n",
    "    bvar = (1/N)*np.sum((test_sample-test_mean)**2)\n",
    "    ubvar = (1/(N-1))*np.sum((test_sample-test_mean)**2)\n",
    "    bias_var.append(bvar)\n",
    "    unbias_var.append(ubvar)\n",
    "bias_var = np.array(bias_var)\n",
    "unbias_var = np.array(unbias_var)\n",
    "bias_std = np.sqrt(bias_var)\n",
    "unbias_std = np.sqrt(unbias_var)"
   ]
  },
  {
   "cell_type": "code",
   "execution_count": 3,
   "metadata": {
    "collapsed": false
   },
   "outputs": [
    {
     "data": {
      "image/png": "[encoded data removed]",
      "text/plain": [
       "<matplotlib.figure.Figure at 0x109a98a50>"
      ]
     },
     "metadata": {},
     "output_type": "display_data"
    }
   ],
   "source": [
    "plt.plot(np.arange(5,max_sample+1), bias_std,\n",
    "         color='r', linestyle='--', linewidth=2, label='Biased')\n",
    "plt.plot(np.arange(5,max_sample+1), unbias_std,\n",
    "         color='k', linewidth=2, label='Unbiased')\n",
    "plt.xlabel('N', fontsize=20)\n",
    "plt.ylabel('StDev', fontsize=20)\n",
    "plt.legend(fontsize=12)\n",
    "plt.tick_params(labelsize=14)\n",
    "plt.title('Stdev of a Gaussian', fontsize=20)\n",
    "sns.despine()"
   ]
  },
  {
   "cell_type": "markdown",
   "metadata": {},
   "source": [
    "### Sufficiency\n",
    "\n",
    "A set of estimators is *sufficient* if it's everything needed to describe the data set. For example, you can describe a Poisson distribution with just one parameter $\\lambda$. Meanwhile, a normal distribution takes two parameters $\\mu$ and $\\sigma$."
   ]
  },
  {
   "cell_type": "code",
   "execution_count": null,
   "metadata": {
    "collapsed": true
   },
   "outputs": [],
   "source": []
  },
  {
   "cell_type": "markdown",
   "metadata": {},
   "source": [
    "### Robustness\n",
    "\n",
    "An estimator is *robust* if it's not sensitive to big fluctuations. A simple example here is taking the median instead of the mean of a sample--the mean can be thrown off by an outlier, but the median won't be."
   ]
  },
  {
   "cell_type": "code",
   "execution_count": 4,
   "metadata": {
    "collapsed": false
   },
   "outputs": [],
   "source": [
    "cauchy_sample_size=1000\n",
    "num_runs = 100\n",
    "np.random.seed(200)\n",
    "\n",
    "cauchy_mean = np.zeros(num_runs)\n",
    "cauchy_median = np.zeros(num_runs)\n",
    "\n",
    "for ind in range(num_runs):\n",
    "    cauchy_sample = sp.stats.cauchy.rvs(size=cauchy_sample_size)\n",
    "    cauchy_mean[ind] = cauchy_sample.mean()\n",
    "    cauchy_median[ind] = np.median(cauchy_sample)"
   ]
  },
  {
   "cell_type": "code",
   "execution_count": 5,
   "metadata": {
    "collapsed": false
   },
   "outputs": [
    {
     "data": {
      "image/png": "[encoded data removed]",
      "text/plain": [
       "<matplotlib.figure.Figure at 0x109ae3b90>"
      ]
     },
     "metadata": {},
     "output_type": "display_data"
    }
   ],
   "source": [
    "plt.hist(cauchy_mean, normed=True, bins=40, color='k', alpha=0.3, label='Mean')\n",
    "plt.hist(cauchy_median, normed=True, bins=10, color='r', alpha=0.5, label='Median')\n",
    "plt.legend(fontsize=12)\n",
    "plt.tick_params(labelsize=14)\n",
    "plt.title('Finding the Middle of a Cauchy', fontsize=20)\n",
    "sns.despine()"
   ]
  },
  {
   "cell_type": "markdown",
   "metadata": {},
   "source": [
    "### Efficency"
   ]
  },
  {
   "cell_type": "markdown",
   "metadata": {},
   "source": [
    "The *efficency* of an estimator is its variance, $\\text{Var}(\\hat \\theta)$. You'll often want to choose a more efficient estimtor instead of a less-efficient one, but you may get a trade-off. As a silly example, define $\\hat \\theta = 42$. No variance whatsoever!"
   ]
  },
  {
   "cell_type": "code",
   "execution_count": null,
   "metadata": {
    "collapsed": true
   },
   "outputs": [],
   "source": []
  },
  {
   "cell_type": "markdown",
   "metadata": {},
   "source": [
    "### Rao-Cramer-Frechet inequality"
   ]
  },
  {
   "cell_type": "markdown",
   "metadata": {},
   "source": [
    "How efficient can we have an estimator be? The Rao-Cramer-Frechet (RCF) inequality says that if:\n",
    "1. The range of data $x$ is independent of $\\theta$.\n",
    "2. The variance of $\\hat \\theta$ is finite, for any $\\theta$.\n",
    "3. $\\partial_{\\theta} \\int_{-\\infty}^{\\infty} f(x) L(\\theta|x)dx = \\int_{-\\infty}^{\\infty} f(x) \\partial_{\\theta} L(\\theta|x)dx$ where $f(x)$ is any statistic of finite variance. ($L$ is the likelihood function we've talked about earlier.)\n",
    "\n",
    "Then\n",
    "\n",
    "$$ \\sigma^2_{\\hat \\theta} \\geq \\frac{[1 + \\partial_{\\theta}b(\\theta)]^2}{I(\\theta)}$$\n",
    "\n",
    "where $I(\\theta)$ is the *Fisher Information Number*.\n",
    "\n",
    "$$I(\\theta) := \\left\\langle \\left( \\frac{\\partial \\ln L}{\\partial \\theta} \\right)^2 \\right\\rangle = - \\left\\langle \\frac{\\partial^2 \\ln L}{\\partial \\theta^2} \\right\\rangle$$"
   ]
  },
  {
   "cell_type": "markdown",
   "metadata": {},
   "source": [
    "A statistic that reaches the equality above is called *efficient*. This leads to a theorem:\n",
    "\n",
    "An efficient (perhaps biased) estimator for $\\theta$ exists if-and-only-if\n",
    "\n",
    "$$\\frac{\\partial \\ln L(\\theta|x)}{\\partial \\theta} = [f(x) - h(\\theta)]g(\\theta)$$\n",
    "\n",
    "In other words, we're drawing from the exponential family.\n",
    "\n",
    "Further, an unbiased efficient estimator exists if-and-only-if $h(\\theta) = \\theta$"
   ]
  },
  {
   "cell_type": "code",
   "execution_count": null,
   "metadata": {
    "collapsed": true
   },
   "outputs": [],
   "source": []
  }
 ],
 "metadata": {
  "kernelspec": {
   "display_name": "Python 2",
   "language": "python",
   "name": "python2"
  },
  "language_info": {
   "codemirror_mode": {
    "name": "ipython",
    "version": 2
   },
   "file_extension": ".py",
   "mimetype": "text/x-python",
   "name": "python",
   "nbconvert_exporter": "python",
   "pygments_lexer": "ipython2",
   "version": "2.7.10"
  }
 },
 "nbformat": 4,
 "nbformat_minor": 0
}
