{
 "cells": [
  {
   "cell_type": "markdown",
   "metadata": {},
   "source": [
    "## Introduction to Cross Validation\n",
    "\n",
    "### Paul Anzel, 10-20-15"
   ]
  },
  {
   "cell_type": "markdown",
   "metadata": {},
   "source": [
    "Problem: I have a few different methods I'd like to try and do a fit (e.g. $k$-nearest-neighbors vs support-vector-machine) and I want to see which gives me better accuracy.\n",
    "\n",
    "Or...\n",
    "\n",
    "Problem: I don't have too much data, and I have a lot of possible parameters I could use for my statistical model fits. How can I choose among them?"
   ]
  },
  {
   "cell_type": "markdown",
   "metadata": {},
   "source": [
    "I'm going to try fitting to some data with an initial model\n",
    "\n",
    "$y = \\beta_1 x_2 + \\beta_2 x_3 + \\beta_3 x_7 + 5$\n",
    "\n",
    "$\\beta_2 = 5$\n",
    "\n",
    "$\\beta_3 = 10$ <-- the most important one\n",
    "\n",
    "$\\beta_7 = 0.2$\n",
    "\n",
    "But pretend I don't know about the values of the $\\beta$'s. We have $\\bar x = [x_1, ..., x_{10}]$"
   ]
  },
  {
   "cell_type": "code",
   "execution_count": 1,
   "metadata": {
    "collapsed": false
   },
   "outputs": [],
   "source": [
    "from __future__ import division, print_function, unicode_literals\n",
    "\n",
    "import sklearn\n",
    "from sklearn import cross_validation\n",
    "from sklearn import linear_model\n",
    "import numpy as np\n",
    "import numpy.random as rd\n",
    "import matplotlib.pyplot as plt\n",
    "import seaborn as sns\n",
    "\n",
    "rd.seed(10000)\n",
    "%matplotlib inline"
   ]
  },
  {
   "cell_type": "code",
   "execution_count": 2,
   "metadata": {
    "collapsed": false
   },
   "outputs": [],
   "source": [
    "N = 15\n",
    "\n",
    "beta2 = 5\n",
    "beta3 = 10\n",
    "beta7 = 2\n",
    "intercept = 50\n",
    "\n",
    "eta = 40  # Random parameter\n",
    "\n",
    "x1 = 10*(rd.rand(N) - .5)\n",
    "x2 = 10*(rd.rand(N) - .5)\n",
    "x3 = 10*(rd.rand(N) - .5)\n",
    "x4 = 10*(rd.rand(N) - .5)\n",
    "x5 = 10*(rd.rand(N) - .5)\n",
    "x6 = 10*(rd.rand(N) - .5)\n",
    "x7 = 10*(rd.rand(N) - .5)\n",
    "x8 = 10*(rd.rand(N) - .5)\n",
    "x9 = 10*(rd.rand(N) - .5)\n",
    "x10 = 10*(rd.rand(N) - .5)\n",
    "\n",
    "\n",
    "yvals = intercept + beta2*x2 + beta3*x3 + beta7*x7 + eta*rd.rand(N)"
   ]
  },
  {
   "cell_type": "code",
   "execution_count": 3,
   "metadata": {
    "collapsed": false
   },
   "outputs": [
    {
     "data": {
      "text/plain": [
       "<matplotlib.text.Text at 0x109814390>"
      ]
     },
     "execution_count": 3,
     "metadata": {},
     "output_type": "execute_result"
    },
    {
     "name": "stderr",
     "output_type": "stream",
     "text": [
      "/Users/anzelp/anaconda/lib/python2.7/site-packages/matplotlib/collections.py:590: FutureWarning: elementwise comparison failed; returning scalar instead, but in the future will perform elementwise comparison\n",
      "  if self._edgecolors == str('face'):\n"
     ]
    },
    {
     "data": {
      "image/png": "[encoded data removed]",
      "text/plain": [
       "<matplotlib.figure.Figure at 0x107da1210>"
      ]
     },
     "metadata": {},
     "output_type": "display_data"
    }
   ],
   "source": [
    "sval = np.ones((N,))*50\n",
    "fig, axes = plt.subplots(1, 3, figsize=(12, 4))\n",
    "axes[0].scatter(x2, yvals, s=sval, color='g')\n",
    "axes[0].set_xlabel('x2')\n",
    "axes[0].set_ylabel('y')\n",
    "\n",
    "axes[1].scatter(x3, yvals, s=sval, color='g')\n",
    "axes[1].set_xlabel('x3')\n",
    "\n",
    "axes[2].scatter(x7, yvals, s=sval, color='g')\n",
    "axes[2].set_xlabel('x7')"
   ]
  },
  {
   "cell_type": "code",
   "execution_count": 4,
   "metadata": {
    "collapsed": false
   },
   "outputs": [
    {
     "name": "stdout",
     "output_type": "stream",
     "text": [
      "62.7891585249\n",
      "[ -2.89937564   4.25268449  13.84027441   4.29652734   1.43866066\n",
      "   5.19036671  -1.59254485  -5.60143668  -4.34299036  -0.45154377]\n",
      "0.969906893742\n"
     ]
    }
   ],
   "source": [
    "x_collate = np.vstack((x1, x2, x3, x4, x5, x6, x7, x8, x9, x10)).T\n",
    "\n",
    "clf_standard = linear_model.LinearRegression()\n",
    "clf_standard.fit(x_collate, yvals)\n",
    "print(clf_standard.intercept_)\n",
    "print(clf_standard.coef_)\n",
    "print(clf_standard.score(x_collate, yvals))"
   ]
  },
  {
   "cell_type": "code",
   "execution_count": 5,
   "metadata": {
    "collapsed": false
   },
   "outputs": [
    {
     "name": "stdout",
     "output_type": "stream",
     "text": [
      "x1 only R^2: 0.09\n",
      "x2 only R^2: 0.17\n",
      "x3 only R^2: 0.74\n",
      "x4 only R^2: 0.02\n",
      "x5 only R^2: 0.00\n",
      "x6 only R^2: 0.00\n",
      "x7 only R^2: 0.05\n",
      "x8 only R^2: 0.01\n",
      "x9 only R^2: 0.03\n",
      "x10 only R^2: 0.07\n"
     ]
    }
   ],
   "source": [
    "for ind in range(10):\n",
    "    exec('xtest = x%d' % (ind + 1))\n",
    "    clf_simple = linear_model.LinearRegression()\n",
    "    clf_simple.fit(xtest.reshape((N,1)), yvals.reshape((N,1)))\n",
    "    print('x%d only R^2: %.2f'\n",
    "          % ((ind+1), clf_simple.score(xtest.reshape((N,1)), yvals.reshape((N,1)))))"
   ]
  },
  {
   "cell_type": "markdown",
   "metadata": {},
   "source": [
    "### Holdout CV"
   ]
  },
  {
   "cell_type": "markdown",
   "metadata": {},
   "source": [
    "This is the most conventional way of doing things. In holdout, the data is split into two sets, the training set and the test set (say 70%/30% split). We run our fit on the training set, and then see what error values you get when you apply the fit to the test set."
   ]
  },
  {
   "cell_type": "code",
   "execution_count": 6,
   "metadata": {
    "collapsed": false
   },
   "outputs": [
    {
     "name": "stdout",
     "output_type": "stream",
     "text": [
      "First try with a score R^2 = 0.50\n",
      "Second time with a score R^2 = -7.81\n"
     ]
    }
   ],
   "source": [
    "X_train, X_test, Y_train, Y_test = cross_validation.train_test_split(\n",
    "    x_collate, yvals, test_size=3, random_state=0)\n",
    "\n",
    "clf_holdout=linear_model.LinearRegression().fit(X_train, Y_train)\n",
    "print('First try with a score R^2 = %.2f'\n",
    "      % clf_holdout.score(X_test, Y_test))\n",
    "\n",
    "X_train, X_test, Y_train, Y_test = cross_validation.train_test_split(\n",
    "    x_collate, yvals, test_size=3, random_state=10)\n",
    "\n",
    "clf_holdout=linear_model.LinearRegression().fit(X_train, Y_train)\n",
    "print('Second time with a score R^2 = %.2f'\n",
    "      % clf_holdout.score(X_test, Y_test))"
   ]
  },
  {
   "cell_type": "markdown",
   "metadata": {},
   "source": [
    "### Random sub-sampling"
   ]
  },
  {
   "cell_type": "markdown",
   "metadata": {},
   "source": [
    "Do holdout $k$ times (selecting your sets randomly each time). After having done this, take the average of your errors."
   ]
  },
  {
   "cell_type": "code",
   "execution_count": 7,
   "metadata": {
    "collapsed": false
   },
   "outputs": [
    {
     "name": "stdout",
     "output_type": "stream",
     "text": [
      "TRAIN: [ 0  4  6 11  2 10  9 14  8 12 13  7] TEST: [5 3 1]\n",
      "TRAIN: [ 3  0 13 12  2  9 14  1  8  7 10  6] TEST: [11  4  5]\n",
      "TRAIN: [ 8  2  6  0  4 10  9 13 11  1  3  7] TEST: [14  5 12]\n",
      "TRAIN: [ 3  8  9 10 13  5  2 11  4  6 12  1] TEST: [ 7  0 14]\n",
      "TRAIN: [ 2  9 13  0  5 12  3  6  8 11  4 10] TEST: [14  7  1]\n",
      "TRAIN: [ 4  7 11  5 14 13  8  3  0  2 12  1] TEST: [ 9 10  6]\n",
      "TRAIN: [11  3  9  8  5  6  4  7 12  0  2 13] TEST: [ 1 14 10]\n",
      "TRAIN: [ 4 13  8  3  7 11 14  0 12  9  5  2] TEST: [ 6 10  1]\n",
      "TRAIN: [10  5  1  8 12  7 14  9  3 13 11  0] TEST: [2 4 6]\n",
      "TRAIN: [14  3 13  2  8 11  6  1  7  4  9 12] TEST: [ 5  0 10]\n",
      "-2.79454396274\n"
     ]
    }
   ],
   "source": [
    "n_iter = 10\n",
    "\n",
    "ss = cross_validation.ShuffleSplit(\n",
    "    N, n_iter=n_iter, test_size=3, random_state=1337)\n",
    "\n",
    "R2_list = np.empty((len(ss),))\n",
    "ind = 0\n",
    "\n",
    "for train, test in ss:\n",
    "    print(\"TRAIN:\", train, \"TEST:\", test)\n",
    "    X_train = x_collate[train, :]\n",
    "    X_test = x_collate[test, :]\n",
    "    Y_train = yvals[train]\n",
    "    Y_test = yvals[test]\n",
    "    clf=linear_model.LinearRegression().fit(X_train, Y_train)\n",
    "    R2_list[ind] = clf.score(X_test, Y_test)\n",
    "    ind += 1\n",
    "    \n",
    "print(R2_list.mean())"
   ]
  },
  {
   "cell_type": "markdown",
   "metadata": {},
   "source": [
    "### LOOCV (Leave-one-out-cross-validation)"
   ]
  },
  {
   "cell_type": "markdown",
   "metadata": {},
   "source": [
    "In this technique, you'll take one data point out ($x_i$), and run your model fitting $\\hat y_{-i} = f(X_{-i})$ on the rest of the set. Calculate the error $e_{-i} = \\hat y_{-i} - y_i$. Next, repeat the process for each of the other data points $i = 1, ..., n$. Average the results, and you have your CV statistic.\n",
    "\n",
    "You can also average things like $R^2$ statistics instead (using scikit-learn's `clf.score()`)."
   ]
  },
  {
   "cell_type": "code",
   "execution_count": 8,
   "metadata": {
    "collapsed": false
   },
   "outputs": [
    {
     "name": "stdout",
     "output_type": "stream",
     "text": [
      "TRAIN: [ 1  2  3  4  5  6  7  8  9 10 11 12 13 14] TEST: [0]\n",
      "TRAIN: [ 0  2  3  4  5  6  7  8  9 10 11 12 13 14] TEST: [1]\n",
      "TRAIN: [ 0  1  3  4  5  6  7  8  9 10 11 12 13 14] TEST: [2]\n",
      "TRAIN: [ 0  1  2  4  5  6  7  8  9 10 11 12 13 14] TEST: [3]\n",
      "TRAIN: [ 0  1  2  3  5  6  7  8  9 10 11 12 13 14] TEST: [4]\n",
      "TRAIN: [ 0  1  2  3  4  6  7  8  9 10 11 12 13 14] TEST: [5]\n",
      "TRAIN: [ 0  1  2  3  4  5  7  8  9 10 11 12 13 14] TEST: [6]\n",
      "TRAIN: [ 0  1  2  3  4  5  6  8  9 10 11 12 13 14] TEST: [7]\n",
      "TRAIN: [ 0  1  2  3  4  5  6  7  9 10 11 12 13 14] TEST: [8]\n",
      "TRAIN: [ 0  1  2  3  4  5  6  7  8 10 11 12 13 14] TEST: [9]\n",
      "TRAIN: [ 0  1  2  3  4  5  6  7  8  9 11 12 13 14] TEST: [10]\n",
      "TRAIN: [ 0  1  2  3  4  5  6  7  8  9 10 12 13 14] TEST: [11]\n",
      "TRAIN: [ 0  1  2  3  4  5  6  7  8  9 10 11 13 14] TEST: [12]\n",
      "TRAIN: [ 0  1  2  3  4  5  6  7  8  9 10 11 12 14] TEST: [13]\n",
      "TRAIN: [ 0  1  2  3  4  5  6  7  8  9 10 11 12 13] TEST: [14]\n",
      "[ 0.  0.  0.  0.  0.  0.  0.  0.  0.  0.  0.  0.  0.  0.  0.]\n"
     ]
    }
   ],
   "source": [
    "loo = cross_validation.LeaveOneOut(N)\n",
    "\n",
    "R2_list = np.empty((len(loo),))\n",
    "ind = 0\n",
    "\n",
    "for train, test in loo:\n",
    "    print(\"TRAIN:\", train, \"TEST:\", test)\n",
    "    X_train = x_collate[train, :]\n",
    "    X_test = x_collate[test, :]\n",
    "    Y_train = yvals[train]\n",
    "    Y_test = yvals[test]\n",
    "    clf=linear_model.LinearRegression().fit(X_train, Y_train)\n",
    "    R2_list[ind] = clf.score(X_test, Y_test)\n",
    "    ind += 1\n",
    "    \n",
    "print(R2_list)"
   ]
  },
  {
   "cell_type": "markdown",
   "metadata": {},
   "source": [
    "Uh oh, we can't call score on one point! We'll need to actually compute the mean squared error instead."
   ]
  },
  {
   "cell_type": "code",
   "execution_count": 9,
   "metadata": {
    "collapsed": false
   },
   "outputs": [
    {
     "name": "stdout",
     "output_type": "stream",
     "text": [
      "TRAIN: [ 1  2  3  4  5  6  7  8  9 10 11 12 13 14] TEST: [0]\n",
      "TRAIN: [ 0  2  3  4  5  6  7  8  9 10 11 12 13 14] TEST: [1]\n",
      "TRAIN: [ 0  1  3  4  5  6  7  8  9 10 11 12 13 14] TEST: [2]\n",
      "TRAIN: [ 0  1  2  4  5  6  7  8  9 10 11 12 13 14] TEST: [3]\n",
      "TRAIN: [ 0  1  2  3  5  6  7  8  9 10 11 12 13 14] TEST: [4]\n",
      "TRAIN: [ 0  1  2  3  4  6  7  8  9 10 11 12 13 14] TEST: [5]\n",
      "TRAIN: [ 0  1  2  3  4  5  7  8  9 10 11 12 13 14] TEST: [6]\n",
      "TRAIN: [ 0  1  2  3  4  5  6  8  9 10 11 12 13 14] TEST: [7]\n",
      "TRAIN: [ 0  1  2  3  4  5  6  7  9 10 11 12 13 14] TEST: [8]\n",
      "TRAIN: [ 0  1  2  3  4  5  6  7  8 10 11 12 13 14] TEST: [9]\n",
      "TRAIN: [ 0  1  2  3  4  5  6  7  8  9 11 12 13 14] TEST: [10]\n",
      "TRAIN: [ 0  1  2  3  4  5  6  7  8  9 10 12 13 14] TEST: [11]\n",
      "TRAIN: [ 0  1  2  3  4  5  6  7  8  9 10 11 13 14] TEST: [12]\n",
      "TRAIN: [ 0  1  2  3  4  5  6  7  8  9 10 11 12 14] TEST: [13]\n",
      "TRAIN: [ 0  1  2  3  4  5  6  7  8  9 10 11 12 13] TEST: [14]\n",
      "[ -3.24542226 -13.38125825 -21.64894009   5.55600438  22.73334596\n",
      "  10.09953798  29.88661617 -25.58221522  43.04950163  19.79733414\n",
      " -23.96414228 -46.81047233   7.87252212  50.05086373 -17.9464285 ]\n",
      "MSE = 717.03\n"
     ]
    }
   ],
   "source": [
    "err_list = np.empty((len(loo),))\n",
    "ind = 0\n",
    "\n",
    "for train, test in loo:\n",
    "    print(\"TRAIN:\", train, \"TEST:\", test)\n",
    "    X_train = x_collate[train, :]\n",
    "    X_test = x_collate[test, :]\n",
    "    Y_train = yvals[train]\n",
    "    Y_test = yvals[test]\n",
    "    clf=linear_model.LinearRegression().fit(X_train, Y_train)\n",
    "    err_list[ind] = Y_test - clf.predict(X_test)\n",
    "    ind += 1\n",
    "    \n",
    "print(err_list)\n",
    "print('MSE = %.2f' % ((1/N)*(np.sum(err_list**2))))"
   ]
  },
  {
   "cell_type": "markdown",
   "metadata": {},
   "source": [
    "This can be a bit slow to do if you're implementing your own routine, but if you've got a linear regression system\n",
    "\n",
    "$y = X \\bar \\beta + \\bar e$\n",
    "\n",
    "You would (in a typical least-squares) compute\n",
    "\n",
    "$\\hat \\beta = (X^T X)^{-1} X^T y$\n",
    "\n",
    "$\\hat y = X \\hat \\beta = X (X^T X)^{-1} X^T y = H y$\n",
    "\n",
    "And the cross-validation statistic can be computed\n",
    "\n",
    "$MSE = \\frac{1}{n} \\sum_{i=0}^n [e_i / (1-H_{ii})]^2$\n",
    "\n",
    "Where $e_i$ are the residuals of the fit to all $n$ points.\n",
    "\n",
    "(I cannot yet find if scikit learn does this for you...)"
   ]
  },
  {
   "cell_type": "markdown",
   "metadata": {},
   "source": [
    "N.B.:\n",
    "- LOOCV will not consistently (as $n \\rightarrow \\infty$) settle on a fit model ([Jun Shao, 1993](https://www.jstor.org/stable/2290328?&seq=1#page_scan_tab_contents)). This may not be a problem, as the real world barely follows nice models anyway.\n",
    "- LOOCV might be sensitive (in which model you have) to your data, so be careful."
   ]
  },
  {
   "cell_type": "markdown",
   "metadata": {},
   "source": [
    "### LpOCV (Leave-p-out-cross-validation)"
   ]
  },
  {
   "cell_type": "markdown",
   "metadata": {},
   "source": [
    "This is an extension of above, except rather than leaving 1 data point out and running $n$ different fits, you leave $p$ units out and do $\\frac{n!}{p! (n-p)!}$ (choosing all possible $p$-sized subsets) different statistical fits. Note that this can become fairly unweildly is $n$ is decently sized, so be warned.\n",
    "\n",
    "Like LOOCV, you'll run your fits on the n-choose-p take-p-out data sets, find the error on them, and average out all the results."
   ]
  },
  {
   "cell_type": "code",
   "execution_count": 10,
   "metadata": {
    "collapsed": false
   },
   "outputs": [
    {
     "name": "stdout",
     "output_type": "stream",
     "text": [
      "TRAIN: [ 2  3  4  5  6  7  8  9 10 11 12 13 14] TEST: [0 1]\n",
      "TRAIN: [ 1  3  4  5  6  7  8  9 10 11 12 13 14] TEST: [0 2]\n",
      "TRAIN: [ 1  2  4  5  6  7  8  9 10 11 12 13 14] TEST: [0 3]\n",
      "TRAIN: [ 1  2  3  5  6  7  8  9 10 11 12 13 14] TEST: [0 4]\n",
      "TRAIN: [ 1  2  3  4  6  7  8  9 10 11 12 13 14] TEST: [0 5]\n",
      "TRAIN: [ 1  2  3  4  5  7  8  9 10 11 12 13 14] TEST: [0 6]\n",
      "TRAIN: [ 1  2  3  4  5  6  8  9 10 11 12 13 14] TEST: [0 7]\n",
      "TRAIN: [ 1  2  3  4  5  6  7  9 10 11 12 13 14] TEST: [0 8]\n",
      "TRAIN: [ 1  2  3  4  5  6  7  8 10 11 12 13 14] TEST: [0 9]\n",
      "TRAIN: [ 1  2  3  4  5  6  7  8  9 11 12 13 14] TEST: [ 0 10]\n",
      "...\n"
     ]
    }
   ],
   "source": [
    "p_count = 2\n",
    "\n",
    "lpo = cross_validation.LeavePOut(N, p=p_count)\n",
    "\n",
    "ind = 0\n",
    "\n",
    "for train, test in lpo:\n",
    "    if ind < 10:\n",
    "        print(\"TRAIN:\", train, \"TEST:\", test)\n",
    "    elif ind == 10:\n",
    "        print('...')\n",
    "    X_train = x_collate[train, :]\n",
    "    X_test = x_collate[test, :]\n",
    "    Y_train = yvals[train]\n",
    "    Y_test = yvals[test]\n",
    "    # ...\n",
    "    ind += 1"
   ]
  },
  {
   "cell_type": "markdown",
   "metadata": {},
   "source": [
    "### $k$-Fold CV"
   ]
  },
  {
   "cell_type": "markdown",
   "metadata": {},
   "source": [
    "A different extension of LOOCV/LpOCV. Shuffle your data and divide it into $k$ subsets. Run your fitting $k$ times, where the $k^{th}$ subset is your test set and the rest are your training sets. Average your error among all of the different sets, as before."
   ]
  },
  {
   "cell_type": "code",
   "execution_count": 11,
   "metadata": {
    "collapsed": false
   },
   "outputs": [
    {
     "name": "stdout",
     "output_type": "stream",
     "text": [
      "TRAIN: [ 5  6  7  8  9 10 11 12 13 14] TEST: [0 1 2 3 4]\n",
      "TRAIN: [ 0  1  2  3  4 10 11 12 13 14] TEST: [5 6 7 8 9]\n",
      "TRAIN: [0 1 2 3 4 5 6 7 8 9] TEST: [10 11 12 13 14]\n",
      "[-7.65582374  0.51350169 -1.46836761]\n"
     ]
    }
   ],
   "source": [
    "n_folds = 3\n",
    "\n",
    "kf = cross_validation.KFold(N, n_folds=n_folds)\n",
    "\n",
    "R2_list = np.empty((len(kf),))\n",
    "ind = 0\n",
    "\n",
    "for train, test in kf:\n",
    "    print(\"TRAIN:\", train, \"TEST:\", test)\n",
    "    X_train = x_collate[train, :]\n",
    "    X_test = x_collate[test, :]\n",
    "    Y_train = yvals[train]\n",
    "    Y_test = yvals[test]\n",
    "    clf=linear_model.LinearRegression().fit(X_train, Y_train)\n",
    "    R2_list[ind] = clf.score(X_test, Y_test)\n",
    "    ind += 1\n",
    "    \n",
    "print(R2_list)"
   ]
  },
  {
   "cell_type": "markdown",
   "metadata": {},
   "source": [
    "Trade off:\n",
    "\n",
    "- If you have a lot of fits (e.g. $k$ is pretty large in $k$-fold) the bias of your error estimator will be small (you'll be accurate) but it'll have large variance (low precision). This can also possibly take a long time to compute.\n",
    "- If you have a few fits (small $k$) the bias will be larger (higher than the true error rate) but will have less variance. Faster to compute.\n",
    "\n",
    "For large datasets, $k = 3$ is pretty reasonable. For very small ones, look to LOOCV. $k=10$ is a common choice."
   ]
  },
  {
   "cell_type": "markdown",
   "metadata": {},
   "source": [
    "### Scikit-Learn does this for you"
   ]
  },
  {
   "cell_type": "code",
   "execution_count": 12,
   "metadata": {
    "collapsed": false
   },
   "outputs": [
    {
     "name": "stdout",
     "output_type": "stream",
     "text": [
      "[-7.65582374  0.51350169 -1.46836761]\n"
     ]
    }
   ],
   "source": [
    "cv = cross_validation.cross_val_score(\n",
    "    linear_model.LinearRegression(), # Estimator\n",
    "    x_collate,\n",
    "    yvals,\n",
    "    cv=3 # Defaults to 3-Fold, can put in other generator (as above)\n",
    ")\n",
    "print(cv)\n",
    "# Note this is the same result as what we got for 3-Fold above"
   ]
  },
  {
   "cell_type": "code",
   "execution_count": 13,
   "metadata": {
    "collapsed": false
   },
   "outputs": [
    {
     "name": "stdout",
     "output_type": "stream",
     "text": [
      "[ -3.24542226 -13.38125825 -21.64894009   5.55600438  22.73334596\n",
      "  10.09953798  29.88661617 -25.58221522  43.04950163  19.79733414\n",
      " -23.96414228 -46.81047233   7.87252212  50.05086373 -17.9464285 ]\n"
     ]
    }
   ],
   "source": [
    "# Since we need to do \n",
    "\n",
    "cv2 = cross_validation.cross_val_predict(\n",
    "    linear_model.LinearRegression(),\n",
    "    x_collate,\n",
    "    yvals,\n",
    "    cv=cross_validation.LeaveOneOut(N)\n",
    ")\n",
    "\n",
    "err_vals = yvals - cv2\n",
    "print(err_vals)\n",
    "# Note this is the same error values we got for our LOOCV above\n",
    "# We can subsequently calculate MSE"
   ]
  },
  {
   "cell_type": "code",
   "execution_count": 14,
   "metadata": {
    "collapsed": false
   },
   "outputs": [
    {
     "name": "stdout",
     "output_type": "stream",
     "text": [
      "Good R^2: 0.78\n",
      "Bad R^2: -0.87\n",
      "Good MSE: 164.56\n",
      "Bad MSE: 1738.36\n"
     ]
    }
   ],
   "source": [
    "xcoll_good = np.vstack((x2, x3)).T\n",
    "xcoll_bad = np.vstack((x1, x9)).T\n",
    "\n",
    "cv_good_score = cross_validation.cross_val_score(\n",
    "    linear_model.LinearRegression(), # Estimator\n",
    "    xcoll_good,\n",
    "    yvals,\n",
    "    cv=5\n",
    ")\n",
    "\n",
    "cv_bad_score = cross_validation.cross_val_score(\n",
    "    linear_model.LinearRegression(), # Estimator\n",
    "    xcoll_bad,\n",
    "    yvals,\n",
    "    cv=5\n",
    ")\n",
    "\n",
    "print('Good R^2: %.2f' % np.mean(cv_good_score))\n",
    "print('Bad R^2: %.2f' % np.mean(cv_bad_score))\n",
    "\n",
    "cv_good_pred = cross_validation.cross_val_predict(\n",
    "    linear_model.LinearRegression(), # Estimator\n",
    "    xcoll_good,\n",
    "    yvals,\n",
    "    cv=loo\n",
    ")\n",
    "good_sq_err = (yvals - cv_good_pred)**2\n",
    "print('Good MSE: %.2f' % ((1/N)*np.sum(good_sq_err)))\n",
    "\n",
    "cv_bad_pred = cross_validation.cross_val_predict(\n",
    "    linear_model.LinearRegression(), # Estimator\n",
    "    xcoll_bad,\n",
    "    yvals,\n",
    "    cv=loo\n",
    ")\n",
    "bad_sq_err = (yvals - cv_bad_pred)**2\n",
    "print('Bad MSE: %.2f' % ((1/N)*np.sum(bad_sq_err)))"
   ]
  },
  {
   "cell_type": "markdown",
   "metadata": {},
   "source": [
    "### Time series data"
   ]
  },
  {
   "cell_type": "markdown",
   "metadata": {},
   "source": [
    "When doing time series, you want to test on the most recent data (so you're not just interpolating. Plus, it's clear that the data is not IID any longer."
   ]
  },
  {
   "cell_type": "markdown",
   "metadata": {},
   "source": [
    "One technique:\n",
    "- Fit model to data $y_1, ..., y_t$. Find the forecast $\\hat y_{t+1}$ and compute prediction error $e_{t+1}$.\n",
    "- Repeat this for $t = m, ..., n-1$ where $m$ is the minimum number of steps needed to fit the model.\n",
    "- Average errors (as before)."
   ]
  },
  {
   "cell_type": "code",
   "execution_count": 15,
   "metadata": {
    "collapsed": true
   },
   "outputs": [],
   "source": [
    "### Some point I'll put a clever code example here"
   ]
  },
  {
   "cell_type": "markdown",
   "metadata": {},
   "source": [
    "Other notes:\n",
    "- There are Stratification techniques, where you split your different categories (e.g. for classification) so that you get a (roughly) even partition of your different classes in your test groups (e.g. `cross_validation.StratifiedKFold`).\n",
    "- Similarly, for labeled categories you have methods like Leave-One-Label-Out and Leave-P-Labels-Out"
   ]
  },
  {
   "cell_type": "markdown",
   "metadata": {},
   "source": [
    "Sources:\n",
    "- http://robjhyndman.com/hyndsight/crossvalidation/\n",
    "- https://en.wikipedia.org/wiki/Cross-validation_(statistics)"
   ]
  },
  {
   "cell_type": "code",
   "execution_count": null,
   "metadata": {
    "collapsed": true
   },
   "outputs": [],
   "source": []
  }
 ],
 "metadata": {
  "kernelspec": {
   "display_name": "Python 2",
   "language": "python",
   "name": "python2"
  },
  "language_info": {
   "codemirror_mode": {
    "name": "ipython",
    "version": 2
   },
   "file_extension": ".py",
   "mimetype": "text/x-python",
   "name": "python",
   "nbconvert_exporter": "python",
   "pygments_lexer": "ipython2",
   "version": "2.7.10"
  }
 },
 "nbformat": 4,
 "nbformat_minor": 0
}
