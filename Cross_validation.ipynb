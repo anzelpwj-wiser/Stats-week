{
 "cells": [
  {
   "cell_type": "markdown",
   "metadata": {},
   "source": [
    "## Introduction to Cross Validation\n",
    "\n",
    "### Paul Anzel, 10-20-15"
   ]
  },
  {
   "cell_type": "markdown",
   "metadata": {},
   "source": [
    "Problem: I have a few different methods I'd like to try and do a fit (e.g. $k$-nearest-neighbors vs support-vector-machine) and I want to see which gives me better accuracy.\n",
    "\n",
    "Or...\n",
    "\n",
    "Problem: I don't have too much data, and I have a lot of possible parameters I could use for my statistical model fits. How can I choose among them?"
   ]
  },
  {
   "cell_type": "markdown",
   "metadata": {},
   "source": [
    "I'm going to try fitting to some data with an initial model\n",
    "\n",
    "$y = \\beta_1 x_2 + \\beta_2 x_3 + \\beta_3 x_7 + 5$\n",
    "\n",
    "$\\beta_2 = 5$\n",
    "\n",
    "$\\beta_3 = 10$ <-- the most important one\n",
    "\n",
    "$\\beta_7 = 0.2$\n",
    "\n",
    "But pretend I don't know about the values of the $\\beta$'s."
   ]
  },
  {
   "cell_type": "code",
   "execution_count": 1,
   "metadata": {
    "collapsed": false
   },
   "outputs": [],
   "source": [
    "from __future__ import division, print_function, unicode_literals\n",
    "\n",
    "import sklearn\n",
    "from sklearn import cross_validation\n",
    "from sklearn import linear_model\n",
    "import numpy as np\n",
    "import numpy.random as rd\n",
    "import matplotlib.pyplot as plt\n",
    "import seaborn as sns\n",
    "\n",
    "rd.seed(10000)\n",
    "%matplotlib inline"
   ]
  },
  {
   "cell_type": "code",
   "execution_count": 2,
   "metadata": {
    "collapsed": false
   },
   "outputs": [],
   "source": [
    "N = 15\n",
    "\n",
    "beta2 = 5\n",
    "beta3 = 10\n",
    "beta7 = 2\n",
    "intercept = 50\n",
    "\n",
    "eta = 40  # Random parameter\n",
    "\n",
    "x1 = 10*(rd.rand(N) - .5)\n",
    "x2 = 10*(rd.rand(N) - .5)\n",
    "x3 = 10*(rd.rand(N) - .5)\n",
    "x4 = 10*(rd.rand(N) - .5)\n",
    "x5 = 10*(rd.rand(N) - .5)\n",
    "x6 = 10*(rd.rand(N) - .5)\n",
    "x7 = 10*(rd.rand(N) - .5)\n",
    "x8 = 10*(rd.rand(N) - .5)\n",
    "x9 = 10*(rd.rand(N) - .5)\n",
    "x10 = 10*(rd.rand(N) - .5)\n",
    "\n",
    "\n",
    "yvals = intercept + beta2*x2 + beta3*x3 + beta7*x7 + eta*rd.rand(N)"
   ]
  },
  {
   "cell_type": "code",
   "execution_count": 3,
   "metadata": {
    "collapsed": false
   },
   "outputs": [
    {
     "data": {
      "text/plain": [
       "<matplotlib.text.Text at 0x109ecc250>"
      ]
     },
     "execution_count": 3,
     "metadata": {},
     "output_type": "execute_result"
    },
    {
     "name": "stderr",
     "output_type": "stream",
     "text": [
      "/Users/anzelp/anaconda/lib/python2.7/site-packages/matplotlib/collections.py:590: FutureWarning: elementwise comparison failed; returning scalar instead, but in the future will perform elementwise comparison\n",
      "  if self._edgecolors == str('face'):\n"
     ]
    },
    {
     "data": {
      "image/png": "[encoded data removed]",
      "text/plain": [
       "<matplotlib.figure.Figure at 0x103b486d0>"
      ]
     },
     "metadata": {},
     "output_type": "display_data"
    }
   ],
   "source": [
    "fig, axes = plt.subplots(1, 3, figsize=(12, 4))\n",
    "axes[0].scatter(x2, yvals, s=50, color='g')\n",
    "axes[0].set_xlabel('x2')\n",
    "axes[0].set_ylabel('y')\n",
    "\n",
    "axes[1].scatter(x3, yvals, s=50, color='g')\n",
    "axes[1].set_xlabel('x3')\n",
    "\n",
    "axes[2].scatter(x7, yvals, s=50, color='g')\n",
    "axes[2].set_xlabel('x7')"
   ]
  },
  {
   "cell_type": "code",
   "execution_count": 16,
   "metadata": {
    "collapsed": false
   },
   "outputs": [
    {
     "name": "stdout",
     "output_type": "stream",
     "text": [
      "62.7891585249\n",
      "[ -2.89937564   4.25268449  13.84027441   4.29652734   1.43866066\n",
      "   5.19036671  -1.59254485  -5.60143668  -4.34299036  -0.45154377]\n",
      "0.969906893742\n"
     ]
    }
   ],
   "source": [
    "x_collate = np.vstack((x1, x2, x3, x4, x5, x6, x7, x8, x9, x10)).T\n",
    "\n",
    "clf_standard = linear_model.LinearRegression()\n",
    "clf_standard.fit(x_collate, yvals)\n",
    "print(clf_standard.intercept_)\n",
    "print(clf_standard.coef_)\n",
    "print(clf_standard.score(x_collate, yvals))"
   ]
  },
  {
   "cell_type": "code",
   "execution_count": 15,
   "metadata": {
    "collapsed": false
   },
   "outputs": [
    {
     "name": "stdout",
     "output_type": "stream",
     "text": [
      "x1 only coef: 3.61\n",
      "x2 only coef: 4.44\n",
      "x3 only coef: 11.96\n",
      "x4 only coef: -1.81\n",
      "x5 only coef: -0.61\n",
      "x6 only coef: -0.69\n",
      "x7 only coef: 2.70\n",
      "x8 only coef: -1.22\n",
      "x9 only coef: -2.25\n",
      "x10 only coef: -3.65\n"
     ]
    }
   ],
   "source": [
    "for ind in range(10):\n",
    "    exec('xtest = x%d' % (ind + 1))\n",
    "    clf_simple = linear_model.LinearRegression()\n",
    "    clf_simple.fit(xtest.reshape((N,1)), yvals.reshape((N,1)))\n",
    "    print('x%d only coef: %.2f' % ((ind+1), clf_simple.coef_))"
   ]
  },
  {
   "cell_type": "markdown",
   "metadata": {},
   "source": [
    "### Holdout CV"
   ]
  },
  {
   "cell_type": "markdown",
   "metadata": {},
   "source": [
    "This is the most conventional way of doing things. In holdout, the data is split into two sets, the training set and the test set (say 70%/30% split). We run our fit on the training set, and then see what error values you get when you apply the fit to the test set."
   ]
  },
  {
   "cell_type": "code",
   "execution_count": 28,
   "metadata": {
    "collapsed": false
   },
   "outputs": [
    {
     "name": "stdout",
     "output_type": "stream",
     "text": [
      "0.495774445169\n",
      "-7.81171335028\n"
     ]
    }
   ],
   "source": [
    "X_train, X_test, Y_train, Y_test = cross_validation.train_test_split(\n",
    "    x_collate, yvals, test_size=3, random_state=0)\n",
    "\n",
    "clf_holdout=linear_model.LinearRegression().fit(X_train, Y_train)\n",
    "print('First try with a score R^2 = %.2f'\n",
    "      % clf_holdout.score(X_test, Y_test))\n",
    "\n",
    "X_train, X_test, Y_train, Y_test = cross_validation.train_test_split(\n",
    "    x_collate, yvals, test_size=3, random_state=10)\n",
    "\n",
    "clf_holdout=linear_model.LinearRegression().fit(X_train, Y_train)\n",
    "print('Second time with a score R^2 = %.2f'\n",
    "      % clf_holdout.score(X_test, Y_test))"
   ]
  },
  {
   "cell_type": "markdown",
   "metadata": {},
   "source": [
    "### Random sub-sampling"
   ]
  },
  {
   "cell_type": "markdown",
   "metadata": {},
   "source": [
    "Do holdout $k$ times (selecting your sets randomly each time). After having done this, take the average of your errors."
   ]
  },
  {
   "cell_type": "code",
   "execution_count": 34,
   "metadata": {
    "collapsed": false
   },
   "outputs": [
    {
     "name": "stdout",
     "output_type": "stream",
     "text": [
      "TRAIN: [ 0  4  6 11  2 10  9 14  8 12 13  7] TEST: [5 3 1]\n",
      "TRAIN: [ 3  0 13 12  2  9 14  1  8  7 10  6] TEST: [11  4  5]\n",
      "TRAIN: [ 8  2  6  0  4 10  9 13 11  1  3  7] TEST: [14  5 12]\n",
      "TRAIN: [ 3  8  9 10 13  5  2 11  4  6 12  1] TEST: [ 7  0 14]\n",
      "TRAIN: [ 2  9 13  0  5 12  3  6  8 11  4 10] TEST: [14  7  1]\n",
      "TRAIN: [ 4  7 11  5 14 13  8  3  0  2 12  1] TEST: [ 9 10  6]\n",
      "TRAIN: [11  3  9  8  5  6  4  7 12  0  2 13] TEST: [ 1 14 10]\n",
      "TRAIN: [ 4 13  8  3  7 11 14  0 12  9  5  2] TEST: [ 6 10  1]\n",
      "TRAIN: [10  5  1  8 12  7 14  9  3 13 11  0] TEST: [2 4 6]\n",
      "TRAIN: [14  3 13  2  8 11  6  1  7  4  9 12] TEST: [ 5  0 10]\n",
      "-2.79454396274\n"
     ]
    }
   ],
   "source": [
    "n_iter = 10\n",
    "\n",
    "ss = cross_validation.ShuffleSplit(\n",
    "    N, n_iter=n_iter, test_size=3, random_state=1337)\n",
    "\n",
    "R2_list = np.empty((len(ss),))\n",
    "ind = 0\n",
    "\n",
    "for train, test in ss:\n",
    "    print(\"TRAIN:\", train, \"TEST:\", test)\n",
    "    X_train = x_collate[train, :]\n",
    "    X_test = x_collate[test, :]\n",
    "    Y_train = yvals[train]\n",
    "    Y_test = yvals[test]\n",
    "    clf=linear_model.LinearRegression().fit(X_train, Y_train)\n",
    "    R2_list[ind] = clf.score(X_test, Y_test)\n",
    "    ind += 1\n",
    "    \n",
    "print(R2_list.mean())"
   ]
  },
  {
   "cell_type": "markdown",
   "metadata": {},
   "source": [
    "### LOOCV (Leave-one-out-cross-validation)"
   ]
  },
  {
   "cell_type": "markdown",
   "metadata": {},
   "source": [
    "In this technique, you'll take one data point out ($x_i$), and run your model fitting $\\hat y_{-i} = f(X_{-i})$ on the rest of the set. Calculate the error $e_{-i} = \\hat y_{-i} - y_i$. Next, repeat the process for each of the other data points $i = 1, ..., n$. Average the results, and you have your CV statistic.\n",
    "\n",
    "You can also average things like $R^2$ statistics instead (using scikit-learn's `clf.score()`)."
   ]
  },
  {
   "cell_type": "code",
   "execution_count": null,
   "metadata": {
    "collapsed": true
   },
   "outputs": [],
   "source": [
    "loo = cross_validation.LeaveOneOut(N)\n",
    "\n",
    "for train, test in loo:\n",
    "    print(\"TRAIN:\", train, \"TEST:\", test)\n",
    "    X_train = x_collate[train, :]\n",
    "    X_test = x_collate[test, :]\n",
    "    Y_train = yvals[train]\n",
    "    Y_test = yvals[test]\n",
    "    # ..."
   ]
  },
  {
   "cell_type": "markdown",
   "metadata": {},
   "source": [
    "This can be a bit slow to do if you're implementing your own routine (SKLearn should have it optimized), but if you've got a linear regression system\n",
    "\n",
    "$y = X \\bar \\beta + \\bar e$\n",
    "\n",
    "You would (in a typical least-squares) compute\n",
    "\n",
    "$\\hat \\beta = (X^T X)^{-1} X^T y$\n",
    "\n",
    "$\\hat y = X \\hat \\beta = X (X^T X)^{-1} X^T y = H y$\n",
    "\n",
    "And the cross-validation statistic can be computed\n",
    "\n",
    "$CV = \\frac{1}{n} \\sum_{i=0}^n [e_i / (1-H_{ii})]^2$\n",
    "\n",
    "Where $e_i$ are the residuals of the fit to all $n$ points."
   ]
  },
  {
   "cell_type": "markdown",
   "metadata": {},
   "source": [
    "A few additional notes:\n",
    "- LOOCV will not consistently (as $n \\rightarrow \\infty$) settle on a fit model ([Jun Shao, 1993](https://www.jstor.org/stable/2290328?&seq=1#page_scan_tab_contents)). This may not be a problem, as the real world barely follows nice models anyway."
   ]
  },
  {
   "cell_type": "markdown",
   "metadata": {},
   "source": [
    "### LpOCV (Leave-p-out-cross-validation)"
   ]
  },
  {
   "cell_type": "markdown",
   "metadata": {},
   "source": [
    "This is an extension of above, except rather than leaving 1 data point out and running $n$ different fits, you leave $p$ units out and do $\\frac{n!}{p! (n-p)!}$ (choosing all possible $p$-sized subsets) different statistical fits. Note that this can become fairly unweildly is $n$ is decently sized, so be warned.\n",
    "\n",
    "Like LOOCV, you'll run your fits on the n-choose-p take-p-out data sets, find the error on them, and average out all the results."
   ]
  },
  {
   "cell_type": "code",
   "execution_count": null,
   "metadata": {
    "collapsed": true
   },
   "outputs": [],
   "source": [
    "p = 2\n",
    "\n",
    "lpo = cross_validation.LeaveOneOut(N, p=p)\n",
    "\n",
    "for train, test in lpo:\n",
    "    print(\"TRAIN:\", train, \"TEST:\", test)\n",
    "    X_train = x_collate[train, :]\n",
    "    X_test = x_collate[test, :]\n",
    "    Y_train = yvals[train]\n",
    "    Y_test = yvals[test]\n",
    "    # ..."
   ]
  },
  {
   "cell_type": "markdown",
   "metadata": {},
   "source": [
    "### $k$-Fold CV"
   ]
  },
  {
   "cell_type": "markdown",
   "metadata": {},
   "source": [
    "A different extension of LOOCV/LpOCV. Shuffle your data and divide it into $k$ subsets. Run your fitting $k$ times, where the $k^{th}$ subset is your test set and the rest are your training sets. Average your error among all of the different sets, as before."
   ]
  },
  {
   "cell_type": "code",
   "execution_count": 39,
   "metadata": {
    "collapsed": false
   },
   "outputs": [
    {
     "name": "stdout",
     "output_type": "stream",
     "text": [
      "TRAIN: [ 5  6  7  8  9 10 11 12 13 14] TEST: [0 1 2 3 4]\n",
      "TRAIN: [ 0  1  2  3  4 10 11 12 13 14] TEST: [5 6 7 8 9]\n",
      "TRAIN: [0 1 2 3 4 5 6 7 8 9] TEST: [10 11 12 13 14]\n",
      "[-7.65582374  0.51350169 -1.46836761]\n"
     ]
    }
   ],
   "source": [
    "n_folds = 3\n",
    "\n",
    "kf = cross_validation.KFold(N, n_folds=n_folds)\n",
    "\n",
    "R2_list = np.empty((len(kf),))\n",
    "ind = 0\n",
    "\n",
    "for train, test in kf:\n",
    "    print(\"TRAIN:\", train, \"TEST:\", test)\n",
    "    X_train = x_collate[train, :]\n",
    "    X_test = x_collate[test, :]\n",
    "    Y_train = yvals[train]\n",
    "    Y_test = yvals[test]\n",
    "    clf=linear_model.LinearRegression().fit(X_train, Y_train)\n",
    "    R2_list[ind] = clf.score(X_test, Y_test)\n",
    "    ind += 1\n",
    "    \n",
    "print(R2_list)"
   ]
  },
  {
   "cell_type": "markdown",
   "metadata": {},
   "source": [
    "Trade off:\n",
    "\n",
    "- If you have a lot of fits (e.g. $k$ is pretty large in $k$-fold) the bias of your error estimator will be small (you'll be accurate) but it'll have large variance (low precision). This can also possibly take a long time to compute.\n",
    "- If you have a few fits (small $k$) the bias will be larger (higher than the true error rate) but will have less variance. Faster to compute.\n",
    "\n",
    "For large datasets, $k = 3$ is pretty reasonable. For very small ones, look to LOOCV. $k=10$ is a common choice."
   ]
  },
  {
   "cell_type": "markdown",
   "metadata": {},
   "source": [
    "### Scikit-Learn does this for you"
   ]
  },
  {
   "cell_type": "code",
   "execution_count": 36,
   "metadata": {
    "collapsed": false
   },
   "outputs": [
    {
     "name": "stdout",
     "output_type": "stream",
     "text": [
      "[-7.65582374  0.51350169 -1.46836761]\n"
     ]
    }
   ],
   "source": [
    "cv = cross_validation.cross_val_score(\n",
    "    linear_model.LinearRegression(), # Estimator\n",
    "    x_collate,\n",
    "    yvals,\n",
    "    cv=3 # Defaults to 3-Fold, can put in other generator (as above)\n",
    ")\n",
    "print(cv)"
   ]
  },
  {
   "cell_type": "markdown",
   "metadata": {},
   "source": [
    "### Time series data"
   ]
  },
  {
   "cell_type": "markdown",
   "metadata": {},
   "source": [
    "When doing time series, you want to test on the most recent data (so you're not just interpolating. Plus, it's clear that the data is not IID any longer."
   ]
  },
  {
   "cell_type": "markdown",
   "metadata": {},
   "source": [
    "One technique:\n",
    "- Fit model to data $y_1, ..., y_t$. Find the forecast $\\hat y_{t+1}$ and compute prediction error $e_{t+1}$.\n",
    "- Repeat this for $t = m, ..., n-1$ where $m$ is the minimum number of steps needed to fit the model.\n",
    "- Average errors (as before)."
   ]
  },
  {
   "cell_type": "code",
   "execution_count": null,
   "metadata": {
    "collapsed": true
   },
   "outputs": [],
   "source": []
  },
  {
   "cell_type": "markdown",
   "metadata": {},
   "source": [
    "Other notes:\n",
    "- There are Stratification techniques, where you split your different categories (e.g. for classification) so that you get a (roughly) even partition of your different classes in your test groups (e.g. `cross_validation.StratifiedKFold`).\n",
    "- Similarly, for labeled categories you have methods like Leave-One-Label-Out and Leave-P-Labels-Out"
   ]
  },
  {
   "cell_type": "markdown",
   "metadata": {},
   "source": [
    "Sources:\n",
    "- http://robjhyndman.com/hyndsight/crossvalidation/\n",
    "- https://en.wikipedia.org/wiki/Cross-validation_(statistics)"
   ]
  },
  {
   "cell_type": "code",
   "execution_count": null,
   "metadata": {
    "collapsed": true
   },
   "outputs": [],
   "source": []
  }
 ],
 "metadata": {
  "kernelspec": {
   "display_name": "Python 2",
   "language": "python",
   "name": "python2"
  },
  "language_info": {
   "codemirror_mode": {
    "name": "ipython",
    "version": 2
   },
   "file_extension": ".py",
   "mimetype": "text/x-python",
   "name": "python",
   "nbconvert_exporter": "python",
   "pygments_lexer": "ipython2",
   "version": "2.7.10"
  }
 },
 "nbformat": 4,
 "nbformat_minor": 0
}
